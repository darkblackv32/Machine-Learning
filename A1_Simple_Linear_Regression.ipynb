{
 "cells": [
  {
   "cell_type": "markdown",
   "id": "5c047159",
   "metadata": {},
   "source": [
    "## Simple Linear Regression \n",
    "\n",
    "Some previous concepts : \n",
    "- Regression: is a statistical method used to determine the connection between a dependent variable and one or more independent variables.\n",
    "\n",
    "In simple words, linear regression, specifically, is a modeling technique where an attempt is made to create a straight line equation on a graph that adequately represents the underlying relationship between the variables. This line should pass through the data points in a way that accurately captures the overall trend, rather than trying to fit every single point exactly.\n",
    "\n",
    "<img src=\".\\IMG\\sim_lin_reg01.png\" width=\"50%\">\n",
    "<center><figcaption>A simple example of Linear Regression</figcaption></center>\n",
    "\n",
    "A linear model makes a prediction by simply computing a weighted sum of the input features, plus a constant called the bias term (also called the intercept term). \n",
    "\n",
    "Linear Regression model prediction :   \n",
    "\n",
    "$$\\hat{y} = h_{\\theta}(x) = \\theta_{0} + \\theta_{1}x_{1} + \\theta_{2}x_{2} + \\cdots + \\theta_{n}x_{n}$$\n",
    "\n",
    "In this equation, $\\hat{y}$ is the predicted output value, $h_{\\theta}(x)$ is the linear regression hypothesis function, $x_{i}$ are the input feature values, and $\\theta_{i}$ are the model parameters (also known as weights or coefficients).\n",
    "\n",
    "This can be written much concisely using a vectorized form :\n",
    "\n",
    "$$\\hat{y} = X\\beta$$\n",
    "\n",
    "where $\\hat{y}$ is the predicted output vector, $X$ is the input data matrix, and $\\beta$ is the vector of coefficients.\n"
   ]
  },
  {
   "cell_type": "markdown",
   "id": "c77f0e57",
   "metadata": {},
   "source": [
    "#### The Normal Ecuation\n",
    "To find the value of $\\theta$ that minimizes the cost function there is a closed-form solution, in other words, a mathematical equation that gives the result directly. This is called the Normal Equation\n",
    "\n",
    "$$\\hat{\\theta} = (X^TX)^{-1}X^Ty$$\n",
    "\n",
    "where $\\theta$ is the vector of coefficients, $X$ is the matrix of feature values, $y$ is the vector of target values. The symbol $^{-1}$ represents the inverse of a matrix.\n",
    "\n",
    "It can be more computationally efficient for smaller datasets, but it can become impractical for large datasets due to the cost of matrix inversion."
   ]
  },
  {
   "cell_type": "markdown",
   "id": "d945d06b",
   "metadata": {},
   "source": [
    "#### How do we train it?\n",
    "We first need a measure of how well (or poorly) the model best fits the training data. The most common measure of a regression model is the Root Mean Square Error (RMSE)\n",
    "\n",
    "$$\\text{RMSE} = \\sqrt{\\frac{1}{n}\\sum_{i=1}^{n}(y_i - \\hat{y}_i)^2}$$\n",
    "\n",
    "where $n$ is the number of observations, $y_i$ is the true value of the dependent variable for the $i$-th observation, and $\\hat{y}_i$ is the predicted value of the dependent variable for the $i$-th observation.\n",
    "\n",
    "To train a Linear Regression model, we need to find the value of $\\theta$ that minimizes the RMSE. In practice, it is simpler to minimize the Mean Square Error (MSE) thatn the RMSE, and it leads to the same result (because the value that minimizes a function also minimizes its square root).\n",
    "\n",
    "The MSE of a Linear Regression hypothesis $h_{\\theta}$ on a training set X is calculated using : \n",
    "\n",
    "$$MSE = \\frac{1}{n} \\sum_{i=1}^{n}(y_i - \\hat{y_i})^2$$\n",
    "\n",
    "where $n$ is the number of observations, $y_i$ is the actual value, and $\\hat{y_i}$ is the predicted value."
   ]
  },
  {
   "cell_type": "markdown",
   "id": "d4650008",
   "metadata": {},
   "source": [
    "### Laboratory \n",
    "Putting into practice all the given information"
   ]
  },
  {
   "cell_type": "code",
   "execution_count": 4,
   "id": "d203f4af",
   "metadata": {},
   "outputs": [],
   "source": [
    "import matplotlib.pyplot as plt\n",
    "import pandas as pd\n",
    "import pylab as pl\n",
    "import numpy as np\n",
    "%matplotlib inline"
   ]
  },
  {
   "cell_type": "markdown",
   "id": "1b011974",
   "metadata": {},
   "source": [
    "#### Information about the DataFrame\n",
    "The objective of this statistical project is to administer three different tests to 50 undergraduate students from UTEC (University of Engineering and Technology) located in Lima, Peru. The first test involves the recall of images displayed on a sheet. The students will have 20 seconds to remember all the animals they can and then list them. The second test involves manipulating three matchsticks to make a fish swim in the opposite direction. The third test involves identifying if a given math problem is correct or incorrect, based on pre-solved examples. Our aim is to compare the results of each test with the GPA of the students, which will allow us to examine the relationship between cognitive abilities and academic performance."
   ]
  },
  {
   "cell_type": "code",
   "execution_count": 5,
   "id": "3cfa24ba",
   "metadata": {},
   "outputs": [
    {
     "data": {
      "text/html": [
       "<div>\n",
       "<style scoped>\n",
       "    .dataframe tbody tr th:only-of-type {\n",
       "        vertical-align: middle;\n",
       "    }\n",
       "\n",
       "    .dataframe tbody tr th {\n",
       "        vertical-align: top;\n",
       "    }\n",
       "\n",
       "    .dataframe thead th {\n",
       "        text-align: right;\n",
       "    }\n",
       "</style>\n",
       "<table border=\"1\" class=\"dataframe\">\n",
       "  <thead>\n",
       "    <tr style=\"text-align: right;\">\n",
       "      <th></th>\n",
       "      <th>Name</th>\n",
       "      <th>Surname</th>\n",
       "      <th>Test01</th>\n",
       "      <th>Test02</th>\n",
       "      <th>Test03</th>\n",
       "      <th>Age</th>\n",
       "      <th>Level</th>\n",
       "      <th>Degree</th>\n",
       "      <th>Sex</th>\n",
       "      <th>Semester</th>\n",
       "      <th>GPA</th>\n",
       "    </tr>\n",
       "  </thead>\n",
       "  <tbody>\n",
       "    <tr>\n",
       "      <th>0</th>\n",
       "      <td>Francisco</td>\n",
       "      <td>Calle</td>\n",
       "      <td>11</td>\n",
       "      <td>146</td>\n",
       "      <td>5</td>\n",
       "      <td>18</td>\n",
       "      <td>Fácil</td>\n",
       "      <td>Ciencia de la Computación</td>\n",
       "      <td>Masculino</td>\n",
       "      <td>3</td>\n",
       "      <td>15.7</td>\n",
       "    </tr>\n",
       "    <tr>\n",
       "      <th>1</th>\n",
       "      <td>Camilo</td>\n",
       "      <td>Soto</td>\n",
       "      <td>3</td>\n",
       "      <td>197</td>\n",
       "      <td>2</td>\n",
       "      <td>18</td>\n",
       "      <td>Intermedio</td>\n",
       "      <td>Ciencia de Datos</td>\n",
       "      <td>Otros</td>\n",
       "      <td>3</td>\n",
       "      <td>11.3</td>\n",
       "    </tr>\n",
       "    <tr>\n",
       "      <th>2</th>\n",
       "      <td>Sebástian</td>\n",
       "      <td>Muñico</td>\n",
       "      <td>6</td>\n",
       "      <td>182</td>\n",
       "      <td>6</td>\n",
       "      <td>18</td>\n",
       "      <td>Extremadamente Complejo</td>\n",
       "      <td>Ciencia de Datos</td>\n",
       "      <td>Otros</td>\n",
       "      <td>3</td>\n",
       "      <td>16.2</td>\n",
       "    </tr>\n",
       "    <tr>\n",
       "      <th>3</th>\n",
       "      <td>Camila</td>\n",
       "      <td>Niño</td>\n",
       "      <td>9</td>\n",
       "      <td>18</td>\n",
       "      <td>6</td>\n",
       "      <td>18</td>\n",
       "      <td>Intermedio</td>\n",
       "      <td>Ciencia de la Computación</td>\n",
       "      <td>Femenino</td>\n",
       "      <td>2</td>\n",
       "      <td>17.9</td>\n",
       "    </tr>\n",
       "    <tr>\n",
       "      <th>4</th>\n",
       "      <td>Jyns</td>\n",
       "      <td>Ordoñez</td>\n",
       "      <td>2</td>\n",
       "      <td>292</td>\n",
       "      <td>7</td>\n",
       "      <td>18</td>\n",
       "      <td>Difícil</td>\n",
       "      <td>Ciencia de Datos</td>\n",
       "      <td>Otros</td>\n",
       "      <td>2</td>\n",
       "      <td>12.8</td>\n",
       "    </tr>\n",
       "  </tbody>\n",
       "</table>\n",
       "</div>"
      ],
      "text/plain": [
       "        Name  Surname  Test01  Test02  Test03  Age                    Level  \\\n",
       "0  Francisco    Calle      11     146       5   18                    Fácil   \n",
       "1     Camilo     Soto       3     197       2   18               Intermedio   \n",
       "2  Sebástian   Muñico       6     182       6   18  Extremadamente Complejo   \n",
       "3     Camila     Niño       9      18       6   18               Intermedio   \n",
       "4       Jyns  Ordoñez       2     292       7   18                  Difícil   \n",
       "\n",
       "                      Degree        Sex  Semester   GPA  \n",
       "0  Ciencia de la Computación  Masculino         3  15.7  \n",
       "1           Ciencia de Datos      Otros         3  11.3  \n",
       "2           Ciencia de Datos      Otros         3  16.2  \n",
       "3  Ciencia de la Computación   Femenino         2  17.9  \n",
       "4           Ciencia de Datos      Otros         2  12.8  "
      ]
     },
     "execution_count": 5,
     "metadata": {},
     "output_type": "execute_result"
    }
   ],
   "source": [
    "df = pd.read_csv(\"data_stud_mentalag.csv\")\n",
    "df.head()"
   ]
  },
  {
   "cell_type": "code",
   "execution_count": 6,
   "id": "0b0c4ff2",
   "metadata": {},
   "outputs": [
    {
     "data": {
      "text/html": [
       "<div>\n",
       "<style scoped>\n",
       "    .dataframe tbody tr th:only-of-type {\n",
       "        vertical-align: middle;\n",
       "    }\n",
       "\n",
       "    .dataframe tbody tr th {\n",
       "        vertical-align: top;\n",
       "    }\n",
       "\n",
       "    .dataframe thead th {\n",
       "        text-align: right;\n",
       "    }\n",
       "</style>\n",
       "<table border=\"1\" class=\"dataframe\">\n",
       "  <thead>\n",
       "    <tr style=\"text-align: right;\">\n",
       "      <th></th>\n",
       "      <th>Test01</th>\n",
       "      <th>Test02</th>\n",
       "      <th>Test03</th>\n",
       "      <th>Age</th>\n",
       "      <th>Semester</th>\n",
       "      <th>GPA</th>\n",
       "    </tr>\n",
       "  </thead>\n",
       "  <tbody>\n",
       "    <tr>\n",
       "      <th>count</th>\n",
       "      <td>49.000000</td>\n",
       "      <td>49.000000</td>\n",
       "      <td>49.000000</td>\n",
       "      <td>49.000000</td>\n",
       "      <td>49.000000</td>\n",
       "      <td>49.000000</td>\n",
       "    </tr>\n",
       "    <tr>\n",
       "      <th>mean</th>\n",
       "      <td>7.428571</td>\n",
       "      <td>160.367347</td>\n",
       "      <td>7.265306</td>\n",
       "      <td>18.306122</td>\n",
       "      <td>3.714286</td>\n",
       "      <td>15.649796</td>\n",
       "    </tr>\n",
       "    <tr>\n",
       "      <th>std</th>\n",
       "      <td>2.653614</td>\n",
       "      <td>62.427523</td>\n",
       "      <td>2.325363</td>\n",
       "      <td>1.064661</td>\n",
       "      <td>1.457738</td>\n",
       "      <td>1.579932</td>\n",
       "    </tr>\n",
       "    <tr>\n",
       "      <th>min</th>\n",
       "      <td>1.000000</td>\n",
       "      <td>18.000000</td>\n",
       "      <td>2.000000</td>\n",
       "      <td>16.000000</td>\n",
       "      <td>1.000000</td>\n",
       "      <td>11.300000</td>\n",
       "    </tr>\n",
       "    <tr>\n",
       "      <th>25%</th>\n",
       "      <td>6.000000</td>\n",
       "      <td>107.000000</td>\n",
       "      <td>6.000000</td>\n",
       "      <td>18.000000</td>\n",
       "      <td>3.000000</td>\n",
       "      <td>14.890000</td>\n",
       "    </tr>\n",
       "    <tr>\n",
       "      <th>50%</th>\n",
       "      <td>7.000000</td>\n",
       "      <td>154.000000</td>\n",
       "      <td>7.000000</td>\n",
       "      <td>18.000000</td>\n",
       "      <td>4.000000</td>\n",
       "      <td>15.900000</td>\n",
       "    </tr>\n",
       "    <tr>\n",
       "      <th>75%</th>\n",
       "      <td>10.000000</td>\n",
       "      <td>201.000000</td>\n",
       "      <td>9.000000</td>\n",
       "      <td>19.000000</td>\n",
       "      <td>5.000000</td>\n",
       "      <td>16.500000</td>\n",
       "    </tr>\n",
       "    <tr>\n",
       "      <th>max</th>\n",
       "      <td>12.000000</td>\n",
       "      <td>292.000000</td>\n",
       "      <td>12.000000</td>\n",
       "      <td>21.000000</td>\n",
       "      <td>8.000000</td>\n",
       "      <td>18.710000</td>\n",
       "    </tr>\n",
       "  </tbody>\n",
       "</table>\n",
       "</div>"
      ],
      "text/plain": [
       "          Test01      Test02     Test03        Age   Semester        GPA\n",
       "count  49.000000   49.000000  49.000000  49.000000  49.000000  49.000000\n",
       "mean    7.428571  160.367347   7.265306  18.306122   3.714286  15.649796\n",
       "std     2.653614   62.427523   2.325363   1.064661   1.457738   1.579932\n",
       "min     1.000000   18.000000   2.000000  16.000000   1.000000  11.300000\n",
       "25%     6.000000  107.000000   6.000000  18.000000   3.000000  14.890000\n",
       "50%     7.000000  154.000000   7.000000  18.000000   4.000000  15.900000\n",
       "75%    10.000000  201.000000   9.000000  19.000000   5.000000  16.500000\n",
       "max    12.000000  292.000000  12.000000  21.000000   8.000000  18.710000"
      ]
     },
     "execution_count": 6,
     "metadata": {},
     "output_type": "execute_result"
    }
   ],
   "source": [
    "df.describe() # descriptive exploration on our data"
   ]
  },
  {
   "cell_type": "code",
   "execution_count": 7,
   "id": "32b82b79",
   "metadata": {},
   "outputs": [
    {
     "data": {
      "text/html": [
       "<div>\n",
       "<style scoped>\n",
       "    .dataframe tbody tr th:only-of-type {\n",
       "        vertical-align: middle;\n",
       "    }\n",
       "\n",
       "    .dataframe tbody tr th {\n",
       "        vertical-align: top;\n",
       "    }\n",
       "\n",
       "    .dataframe thead th {\n",
       "        text-align: right;\n",
       "    }\n",
       "</style>\n",
       "<table border=\"1\" class=\"dataframe\">\n",
       "  <thead>\n",
       "    <tr style=\"text-align: right;\">\n",
       "      <th></th>\n",
       "      <th>Test01</th>\n",
       "      <th>Test02</th>\n",
       "      <th>Test03</th>\n",
       "      <th>GPA</th>\n",
       "    </tr>\n",
       "  </thead>\n",
       "  <tbody>\n",
       "    <tr>\n",
       "      <th>44</th>\n",
       "      <td>11</td>\n",
       "      <td>210</td>\n",
       "      <td>12</td>\n",
       "      <td>14.70</td>\n",
       "    </tr>\n",
       "    <tr>\n",
       "      <th>45</th>\n",
       "      <td>8</td>\n",
       "      <td>98</td>\n",
       "      <td>6</td>\n",
       "      <td>12.35</td>\n",
       "    </tr>\n",
       "    <tr>\n",
       "      <th>46</th>\n",
       "      <td>11</td>\n",
       "      <td>94</td>\n",
       "      <td>10</td>\n",
       "      <td>13.90</td>\n",
       "    </tr>\n",
       "    <tr>\n",
       "      <th>47</th>\n",
       "      <td>7</td>\n",
       "      <td>145</td>\n",
       "      <td>8</td>\n",
       "      <td>15.60</td>\n",
       "    </tr>\n",
       "    <tr>\n",
       "      <th>48</th>\n",
       "      <td>10</td>\n",
       "      <td>160</td>\n",
       "      <td>9</td>\n",
       "      <td>15.50</td>\n",
       "    </tr>\n",
       "  </tbody>\n",
       "</table>\n",
       "</div>"
      ],
      "text/plain": [
       "    Test01  Test02  Test03    GPA\n",
       "44      11     210      12  14.70\n",
       "45       8      98       6  12.35\n",
       "46      11      94      10  13.90\n",
       "47       7     145       8  15.60\n",
       "48      10     160       9  15.50"
      ]
     },
     "execution_count": 7,
     "metadata": {},
     "output_type": "execute_result"
    }
   ],
   "source": [
    "ndf = df[['Test01', 'Test02', 'Test03', 'GPA']]\n",
    "ndf.tail() # the function tail shows the last observations in the data frame"
   ]
  },
  {
   "cell_type": "markdown",
   "id": "015bbbea",
   "metadata": {},
   "source": [
    "As we want to compare the relationship between each test with the GPA of students, we will plot a simple graph to show the ralation beetween this two variables"
   ]
  },
  {
   "cell_type": "code",
   "execution_count": 8,
   "id": "0fd523c0",
   "metadata": {},
   "outputs": [
    {
     "data": {
      "image/png": "[encoded data removed]",
      "text/plain": [
       "<Figure size 640x480 with 1 Axes>"
      ]
     },
     "metadata": {},
     "output_type": "display_data"
    }
   ],
   "source": [
    "# Plotting Test 01 - GPA\n",
    "plt.scatter(ndf.Test01, ndf.GPA, color = 'orange')\n",
    "plt.xlabel(\"Test 01\")\n",
    "plt.ylabel(\"GPA\")\n",
    "plt.show()"
   ]
  },
  {
   "cell_type": "code",
   "execution_count": 9,
   "id": "52a0a597",
   "metadata": {},
   "outputs": [
    {
     "data": {
      "image/png": "[encoded data removed]",
      "text/plain": [
       "<Figure size 640x480 with 1 Axes>"
      ]
     },
     "metadata": {},
     "output_type": "display_data"
    }
   ],
   "source": [
    "# Plotting Test 02 - GPA\n",
    "plt.scatter(ndf.Test02, ndf.GPA, color = 'blue')\n",
    "plt.xlabel(\"Test 02\")\n",
    "plt.ylabel(\"GPA\")\n",
    "plt.show()"
   ]
  },
  {
   "cell_type": "code",
   "execution_count": 10,
   "id": "49f88112",
   "metadata": {},
   "outputs": [
    {
     "data": {
      "image/png": "[encoded data removed]",
      "text/plain": [
       "<Figure size 640x480 with 1 Axes>"
      ]
     },
     "metadata": {},
     "output_type": "display_data"
    }
   ],
   "source": [
    "# Plotting Test 03 = GPA\n",
    "plt.scatter(ndf.Test03, ndf.GPA, color = 'magenta')\n",
    "plt.xlabel(\"Test 03\")\n",
    "plt.ylabel(\"GPA\")\n",
    "plt.show()"
   ]
  },
  {
   "cell_type": "markdown",
   "id": "3be8d15d",
   "metadata": {},
   "source": [
    "Let's compute $\\hat{\\theta}$ using the normal equation. We will use the inv() function to computer the inverse of a matrix, and the dot() method for matrix multiplication : \n",
    "\n",
    "#### Test 01 : "
   ]
  },
  {
   "cell_type": "code",
   "execution_count": 11,
   "id": "c1ff95ab",
   "metadata": {},
   "outputs": [
    {
     "data": {
      "text/plain": [
       "array([[14.36135008],\n",
       "       [ 0.17344463]])"
      ]
     },
     "execution_count": 11,
     "metadata": {},
     "output_type": "execute_result"
    }
   ],
   "source": [
    "test_01 = df['Test01'].values.reshape(-1, 1) # converting into two-dimentional array\n",
    "gpa = df['GPA'].values.reshape(-1, 1)\n",
    "test01_b = np.c_[np.ones((49,1)), test_01] # add x0 = 1 to each instance\n",
    "theta_best = np.linalg.inv(test01_b.T.dot(test01_b)).dot(test01_b.T).dot(gpa) # calculating coefficients for the linear regression model\n",
    "theta_best\n"
   ]
  },
  {
   "cell_type": "markdown",
   "id": "d4b3077b",
   "metadata": {},
   "source": [
    "The purpose of adding the column of 1's is to allow the linear regression algorithm to estimate the intercept term (i.e., the value of the dependent variable when all independent variables are equal to zero). This is because the linear regression model is typically formulated as:\n",
    "\n",
    "$$ y = b_0 + b_1 x_1 + b_2 x_2 + \\dots + b_n x_n $$\n",
    "\n",
    "where y is the dependent variable, x1, x2, ..., xn are the independent variables, b0 is the intercept term, and b1, b2, ..., bn are the coefficients of the independent variables. By adding a column of 1's to the data matrix, we can estimate the intercept term as one of the regression coefficients, and use the same algorithm to estimate all the coefficients (i.e., the slopes) of the independent variables."
   ]
  },
  {
   "cell_type": "markdown",
   "id": "30e83fc4",
   "metadata": {},
   "source": [
    "Now we are able to make predictions using $\\hat{\\theta}$"
   ]
  },
  {
   "cell_type": "code",
   "execution_count": 12,
   "id": "9864651c",
   "metadata": {},
   "outputs": [
    {
     "data": {
      "text/plain": [
       "array([[14.36135008],\n",
       "       [14.70823934]])"
      ]
     },
     "execution_count": 12,
     "metadata": {},
     "output_type": "execute_result"
    }
   ],
   "source": [
    "test01_new = np.array([[0],[2]])\n",
    "test01_new_b = np.c_[np.ones((2,1)),test01_new] # add x0 = 1 to each instance\n",
    "gpa_predict = test01_new_b.dot(theta_best)\n",
    "gpa_predict"
   ]
  },
  {
   "cell_type": "markdown",
   "id": "bb162652",
   "metadata": {},
   "source": [
    "Let's plot the model prediction "
   ]
  },
  {
   "cell_type": "code",
   "execution_count": 13,
   "id": "f6c5e476",
   "metadata": {},
   "outputs": [
    {
     "data": {
      "image/png": "[encoded data removed]",
      "text/plain": [
       "<Figure size 640x480 with 1 Axes>"
      ]
     },
     "metadata": {},
     "output_type": "display_data"
    }
   ],
   "source": [
    "plt.plot(test01_new, gpa_predict, \"r-\")\n",
    "plt.plot(test_01, gpa, \"b.\")\n",
    "plt.xlabel(\"Test 01\")\n",
    "plt.ylabel(\"GPA\")\n",
    "plt.show()"
   ]
  },
  {
   "cell_type": "markdown",
   "id": "f34c17f6",
   "metadata": {},
   "source": [
    "We can perfom all this process using Scikit-Learn"
   ]
  },
  {
   "cell_type": "code",
   "execution_count": 14,
   "id": "e1693115",
   "metadata": {},
   "outputs": [
    {
     "data": {
      "text/plain": [
       "array([[14.36135008],\n",
       "       [14.70823934]])"
      ]
     },
     "execution_count": 14,
     "metadata": {},
     "output_type": "execute_result"
    }
   ],
   "source": [
    "from sklearn.linear_model import LinearRegression\n",
    "lin_reg = LinearRegression()\n",
    "lin_reg.fit(test_01, gpa)\n",
    "lin_reg.intercept_, lin_reg.coef_\n",
    "lin_reg.predict(test01_new) # same results"
   ]
  },
  {
   "cell_type": "markdown",
   "id": "14fd0b2c",
   "metadata": {},
   "source": [
    "The LinearRegression class is based on the scipy.linalg.lstsq() function (the\n",
    "name stands for “least squares”), which you could call directly:"
   ]
  },
  {
   "cell_type": "code",
   "execution_count": 15,
   "id": "a52c3e25",
   "metadata": {},
   "outputs": [
    {
     "data": {
      "text/plain": [
       "array([[14.36135008],\n",
       "       [ 0.17344463]])"
      ]
     },
     "execution_count": 15,
     "metadata": {},
     "output_type": "execute_result"
    }
   ],
   "source": [
    "theta_best_svd, residuals, rank, s = np.linalg.lstsq(test01_b, gpa, rcond=1e-6)\n",
    "theta_best_svd # same results"
   ]
  },
  {
   "cell_type": "markdown",
   "id": "87702bd7",
   "metadata": {},
   "source": [
    "Scikit-Learn separates the bias term (intercept_) from the feature weights (coef_)"
   ]
  },
  {
   "cell_type": "markdown",
   "id": "6975a034",
   "metadata": {},
   "source": [
    "#### Evaluation"
   ]
  },
  {
   "cell_type": "code",
   "execution_count": 31,
   "id": "18c54bdd",
   "metadata": {},
   "outputs": [
    {
     "name": "stdout",
     "output_type": "stream",
     "text": [
      "Mean absolute error: 8.23\n",
      "Residual sum of squares (MSE): 77.94\n",
      "R2-score: -6.60\n",
      "Root Mean Square Error (RMSE): 8.83\n"
     ]
    }
   ],
   "source": [
    "from sklearn.metrics import r2_score\n",
    "\n",
    "test_x = np.asanyarray(test[['GPA']])\n",
    "test_y = np.asanyarray(test[['Test01']])\n",
    "test_y_= reg.predict(test_x)\n",
    "\n",
    "print(\"Mean absolute error: %.2f\" % np.mean(np.absolute(test_y_ - test_y)))\n",
    "print(\"Residual sum of squares (MSE): %.2f\" % np.mean((test_y_ - test_y) ** 2))\n",
    "print(\"R2-score: %.2f\" % r2_score(test_y , test_y_) )\n",
    "print(\"Root Mean Square Error (RMSE): %.2f\" % np.sqrt(np.mean((test_y_ - test_y) ** 2)))"
   ]
  },
  {
   "cell_type": "markdown",
   "id": "a1b3f1e9",
   "metadata": {},
   "source": [
    "#### Test 02 : \n",
    "We'll use the Train/Test Split model to train and test our data\n",
    "Let's split our dataset into train and test sets. 80% of the entire dataset will be used for training and 20% for testing. We create a mask to select random rows using np.random.rand() function:"
   ]
  },
  {
   "cell_type": "code",
   "execution_count": 32,
   "id": "6c0fe380",
   "metadata": {},
   "outputs": [],
   "source": [
    "mask = np.random.rand(len(df)) < 0.8\n",
    "train = ndf[mask]\n",
    "test = ndf[~mask]"
   ]
  },
  {
   "cell_type": "code",
   "execution_count": 33,
   "id": "bec5680f",
   "metadata": {},
   "outputs": [
    {
     "name": "stdout",
     "output_type": "stream",
     "text": [
      "Coefficients:  [[-0.00885276]]\n",
      "Intercept:  [16.94329872]\n"
     ]
    }
   ],
   "source": [
    "reg = LinearRegression()\n",
    "train_x = np.asanyarray(train[[\"Test02\"]])\n",
    "train_y = np.asanyarray(train[[\"GPA\"]])\n",
    "reg.fit(train_x,train_y)\n",
    "# The coefficients\n",
    "print ('Coefficients: ', reg.coef_)\n",
    "print ('Intercept: ',reg.intercept_)"
   ]
  },
  {
   "cell_type": "markdown",
   "id": "23df7a9a",
   "metadata": {},
   "source": [
    "##### Interpretation "
   ]
  },
  {
   "cell_type": "code",
   "execution_count": 34,
   "id": "c32de5ea",
   "metadata": {},
   "outputs": [
    {
     "data": {
      "text/plain": [
       "-26.97054846938773"
      ]
     },
     "execution_count": 34,
     "metadata": {},
     "output_type": "execute_result"
    }
   ],
   "source": [
    "covariance = ndf['Test02'].cov(ndf['GPA'])\n",
    "covariance"
   ]
  },
  {
   "cell_type": "markdown",
   "id": "5f7d2afd",
   "metadata": {},
   "source": [
    "The covariance is negative, so our results seem to indicate that those with higher GPA tend to take less time to complete the second test."
   ]
  },
  {
   "cell_type": "code",
   "execution_count": 35,
   "id": "4c430ac6",
   "metadata": {},
   "outputs": [
    {
     "data": {
      "text/plain": [
       "-0.273448320698698"
      ]
     },
     "execution_count": 35,
     "metadata": {},
     "output_type": "execute_result"
    }
   ],
   "source": [
    "correlation = ndf['Test02'].corr(ndf['GPA'])\n",
    "correlation"
   ]
  },
  {
   "cell_type": "markdown",
   "id": "be853904",
   "metadata": {},
   "source": [
    "Since $0 > r > -0.75$ , the linear relationship is weak and negative, confirming the first result."
   ]
  },
  {
   "cell_type": "markdown",
   "id": "55aa68f4",
   "metadata": {},
   "source": [
    "##### Output"
   ]
  },
  {
   "cell_type": "code",
   "execution_count": 36,
   "id": "f2ef4cf8",
   "metadata": {},
   "outputs": [
    {
     "data": {
      "image/png": "[encoded data removed]",
      "text/plain": [
       "<Figure size 640x480 with 1 Axes>"
      ]
     },
     "metadata": {},
     "output_type": "display_data"
    }
   ],
   "source": [
    "plt.scatter(train.Test02, train.GPA, color = 'red')\n",
    "plt.xlabel(\"Test 02\")\n",
    "plt.ylabel(\"GPA\")\n",
    "plt.plot(train_x, reg.coef_[0][0]*train_x + reg.intercept_[0], '-g')\n",
    "plt.show()"
   ]
  },
  {
   "cell_type": "markdown",
   "id": "6d57bbda",
   "metadata": {},
   "source": [
    "#### Evaluation"
   ]
  },
  {
   "cell_type": "code",
   "execution_count": 22,
   "id": "eb2e93c3",
   "metadata": {},
   "outputs": [
    {
     "name": "stdout",
     "output_type": "stream",
     "text": [
      "Mean absolute error: 142.58\n",
      "Residual sum of squares (MSE): 21751.80\n",
      "R2-score: -14.29\n",
      "Root Mean Square Error (RMSE): 147.48\n"
     ]
    }
   ],
   "source": [
    "from sklearn.metrics import r2_score\n",
    "\n",
    "test_x = np.asanyarray(test[['GPA']])\n",
    "test_y = np.asanyarray(test[['Test02']])\n",
    "test_y_= reg.predict(test_x)\n",
    "\n",
    "print(\"Mean absolute error: %.2f\" % np.mean(np.absolute(test_y_ - test_y)))\n",
    "print(\"Residual sum of squares (MSE): %.2f\" % np.mean((test_y_ - test_y) ** 2))\n",
    "print(\"R2-score: %.2f\" % r2_score(test_y , test_y_) )\n",
    "print(\"Root Mean Square Error (RMSE): %.2f\" % np.sqrt(np.mean((test_y_ - test_y) ** 2)))"
   ]
  },
  {
   "cell_type": "markdown",
   "id": "3de588ea",
   "metadata": {},
   "source": [
    "#### Conclusions\n",
    "Statistical analyses rely on having a representative sample size, and with only 50 participants, the margin of error increases significantly, making it difficult to draw any meaningful conclusions. Additionally, a small sample size can lead to biases and inaccuracies in the data, making it challenging to apply the findings to a larger population.\n",
    "\n",
    "In conclusion, while the results of the tests may provide some insights, it is essential to recognize the limitations of the sample size and exercise caution when interpreting the results. Future studies should aim to increase the sample size to improve the accuracy and reliability of the findings."
   ]
  },
  {
   "cell_type": "markdown",
   "id": "39b2b22f",
   "metadata": {},
   "source": [
    "##### References \n",
    "- \"Hands-On Machine Learning with Scikit-Learn, Keras, and TensorFlow: Concepts, Tools, and Techniques to Build Intelligent Systems\" ~ Aurélien Géron \n",
    "- IBM ML0101 (edX)\n"
   ]
  },
  {
   "cell_type": "markdown",
   "id": "fb9adc7e",
   "metadata": {},
   "source": [
    "I would like to express my sincere gratitude to my colleagues, Natalia Falla, Aaron Coorahua, Camila Guevara and Sofía García for working alongside me in collecting the dataset used in this project."
   ]
  }
 ],
 "metadata": {
  "kernelspec": {
   "display_name": "Python 3 (ipykernel)",
   "language": "python",
   "name": "python3"
  },
  "language_info": {
   "codemirror_mode": {
    "name": "ipython",
    "version": 3
   },
   "file_extension": ".py",
   "mimetype": "text/x-python",
   "name": "python",
   "nbconvert_exporter": "python",
   "pygments_lexer": "ipython3",
   "version": "3.9.13"
  }
 },
 "nbformat": 4,
 "nbformat_minor": 5
}
